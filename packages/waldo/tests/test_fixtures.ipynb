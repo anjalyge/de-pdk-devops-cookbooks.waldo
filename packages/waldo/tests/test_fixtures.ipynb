{
 "cells": [
  {
   "cell_type": "code",
   "execution_count": null,
   "metadata": {},
   "outputs": [],
   "source": [
    "def test_memory_stat():\n",
    "    assert 0+1 == 1"
   ]
  },
  {
   "cell_type": "code",
   "execution_count": null,
   "metadata": {},
   "outputs": [],
   "source": [
    "def test_memory_stat_2():\n",
    "    assert 1+1 == 2-1+1"
   ]
  },
  {
   "cell_type": "code",
   "execution_count": null,
   "metadata": {},
   "outputs": [],
   "source": [
    "def test_memory_stat_3():\n",
    "    assert 1+1 == 2-1+1"
   ]
  }
 ],
 "metadata": {
  "kernelspec": {
   "display_name": "Python 3",
   "language": "python",
   "name": "python3"
  },
  "language_info": {
   "name": "python",
   "version": "3.6.3 (default, Jan  9 2018, 13:57:43) \n[GCC 4.7.2]"
  },
  "orig_nbformat": 4,
  "vscode": {
   "interpreter": {
    "hash": "779326d79e4c629cf8ea30818f6b17c10bfc8713b81d847da991e5f3420c1332"
   }
  }
 },
 "nbformat": 4,
 "nbformat_minor": 2
}
