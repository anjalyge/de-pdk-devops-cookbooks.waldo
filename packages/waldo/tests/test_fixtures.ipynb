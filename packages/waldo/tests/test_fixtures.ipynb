{
 "cells": [
  {
   "cell_type": "code",
   "execution_count": null,
   "metadata": {},
   "outputs": [],
   "source": [
    "from collections import namedtuple\n",
    "from _pytest.fixtures import FixtureRequest\n",
    "from waldo.pytest.fixture import Rundir"
   ]
  },
  {
   "cell_type": "code",
   "execution_count": null,
   "metadata": {},
   "outputs": [],
   "source": [
    "def test_memory_stat(mocker, request: FixtureRequest):\n",
    "    rundir = RunDir(request)\n",
    "    Pmem = namedtuple(\"pmem\", [\"rss\", \"vms\", \"shared\", \"text\", \"lib\", \"data\", \"dirty\"])\n",
    "    mem_info = [102367232, 214175744, 9224192, 4096, 0, 93831168, 0]\n",
    "    mem_info = Pmem(*mem_info)\n",
    "    mocker.patch('psutil.Process.memory_info').return_value = mem_info\n",
    "    data = rundir.get_memory_stats()\n",
    "    Memory = namedtuple(\"Memory\", [\"rss\", \"vms\", \"shared\", \"text\", \"lib\", \"data\", \"dirty\"])\n",
    "    exp_mem_info = [98, 205, 9, 1, 0, 90, 0]\n",
    "    exp_mem_info = Memory(*exp_mem_info)\n",
    "    assert data == Memory(rss=98, vms=205, shared=9, text=1, lib=0, data=90, dirty=0)"
   ]
  },
  {
   "cell_type": "code",
   "execution_count": null,
   "metadata": {},
   "outputs": [],
   "source": [
    "def test_memory_stat_2(mocker, request: FixtureRequest):\n",
    "    rundir = RunDir(request)\n",
    "    Pmem = namedtuple(\"pmem\", [\"rss\", \"vms\", \"shared\", \"text\", \"lib\", \"data\", \"dirty\"])\n",
    "    mem_info = [102367232, 214175744, 9224192, 4096, 0, 93831168, 0]\n",
    "    mem_info = Pmem(*mem_info)\n",
    "    mocker.patch('psutil.Process.memory_info').return_value = mem_info\n",
    "    data = rundir.get_memory_stats()\n",
    "    Memory = namedtuple(\"Memory\", [\"rss\", \"vms\", \"shared\", \"text\", \"lib\", \"data\", \"dirty\"])\n",
    "    exp_mem_info = [98, 205, 9, 1, 0, 90, 0]\n",
    "    exp_mem_info = Memory(*exp_mem_info)\n",
    "    assert data == Memory(rss=98, vms=205, shared=9, text=1, lib=0, data=90, dirty=0)"
   ]
  }
 ],
 "metadata": {
  "kernelspec": {
   "display_name": "Python 3",
   "language": "python",
   "name": "python3"
  },
  "language_info": {
   "name": "python",
   "version": "3.6.3 (default, Jan  9 2018, 13:57:43) \n[GCC 4.7.2]"
  },
  "orig_nbformat": 4,
  "vscode": {
   "interpreter": {
    "hash": "779326d79e4c629cf8ea30818f6b17c10bfc8713b81d847da991e5f3420c1332"
   }
  }
 },
 "nbformat": 4,
 "nbformat_minor": 2
}
